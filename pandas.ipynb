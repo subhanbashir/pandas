{
 "cells": [
  {
   "cell_type": "code",
   "execution_count": 1,
   "metadata": {},
   "outputs": [],
   "source": [
    "#import libraries\n",
    "import numpy as np\n",
    "import pandas as pd"
   ]
  },
  {
   "cell_type": "code",
   "execution_count": 2,
   "metadata": {},
   "outputs": [],
   "source": [
    "#read the csv file\n",
    "df_1=pd.read_csv(\"reported_numbers.csv\") \n",
    "\n",
    "#read excel file\n",
    "df_2=pd.read_excel(\"ExportExcel.xlsx\") "
   ]
  },
  {
   "cell_type": "code",
   "execution_count": 3,
   "metadata": {},
   "outputs": [
    {
     "data": {
      "text/plain": [
       "pandas.core.frame.DataFrame"
      ]
     },
     "execution_count": 3,
     "metadata": {},
     "output_type": "execute_result"
    }
   ],
   "source": [
    "type(df_1)      # to cheak the type od file"
   ]
  },
  {
   "cell_type": "code",
   "execution_count": 4,
   "metadata": {},
   "outputs": [
    {
     "name": "stdout",
     "output_type": "stream",
     "text": [
      "(1944, 5)\n",
      "----------------------------------------\n",
      "Index(['Country', 'Year', 'No. of cases', 'No. of deaths', 'WHO Region'], dtype='object')\n",
      "----------------------------------------\n",
      "RangeIndex(start=0, stop=1944, step=1)\n"
     ]
    }
   ],
   "source": [
    "print(df_1.shape)                          #cheak no of col and rows\n",
    "print('----------------------------------------')\n",
    "print(df_1.columns)                        #all columns\n",
    "print('----------------------------------------')\n",
    "print(df_1.index)                          #range of index"
   ]
  },
  {
   "cell_type": "code",
   "execution_count": 5,
   "metadata": {},
   "outputs": [
    {
     "name": "stdout",
     "output_type": "stream",
     "text": [
      "       Country  Year  No. of cases  No. of deaths             WHO Region\n",
      "0  Afghanistan  2017      161778.0           10.0  Eastern Mediterranean\n",
      "1      Algeria  2017           0.0            0.0                 Africa\n",
      "2       Angola  2017     3874892.0        13967.0                 Africa\n",
      "3    Argentina  2017           0.0            1.0               Americas\n",
      "4      Armenia  2017           0.0            NaN                 Europe\n",
      "----------------------------------------\n",
      "                                 Country  Year  No. of cases  No. of deaths  \\\n",
      "1939  Venezuela (Bolivarian Republic of)  2000       29736.0           24.0   \n",
      "1940                            Viet Nam  2000       74316.0          142.0   \n",
      "1941                               Yemen  2000     1394495.0            NaN   \n",
      "1942                              Zambia  2000           NaN            NaN   \n",
      "1943                            Zimbabwe  2000           NaN            NaN   \n",
      "\n",
      "                 WHO Region  \n",
      "1939               Americas  \n",
      "1940        Western Pacific  \n",
      "1941  Eastern Mediterranean  \n",
      "1942                 Africa  \n",
      "1943                 Africa  \n",
      "----------------------------------------\n",
      "       Country  Year  No. of cases  No. of deaths             WHO Region\n",
      "0  Afghanistan  2017      161778.0           10.0  Eastern Mediterranean\n",
      "1      Algeria  2017           0.0            0.0                 Africa\n",
      "2       Angola  2017     3874892.0        13967.0                 Africa\n",
      "3    Argentina  2017           0.0            1.0               Americas\n",
      "4      Armenia  2017           0.0            NaN                 Europe\n",
      "5   Azerbaijan  2017           0.0            NaN                 Europe\n",
      "6   Bangladesh  2017        4893.0           13.0        South-East Asia\n",
      "7       Belize  2017           7.0            0.0               Americas\n",
      "8        Benin  2017     1573163.0         2182.0                 Africa\n",
      "9       Bhutan  2017          24.0            1.0        South-East Asia\n"
     ]
    }
   ],
   "source": [
    "print(df_1.head())                         #first five rows\n",
    "print('----------------------------------------')\n",
    "print(df_1.tail())                         #last five rows\n",
    "print('----------------------------------------')\n",
    "print(df_1.head(10))                       #first 10 rows same for tail"
   ]
  },
  {
   "cell_type": "code",
   "execution_count": 6,
   "metadata": {},
   "outputs": [
    {
     "name": "stdout",
     "output_type": "stream",
     "text": [
      "<bound method DataFrame.info of                                  Country  Year  No. of cases  No. of deaths  \\\n",
      "0                            Afghanistan  2017      161778.0           10.0   \n",
      "1                                Algeria  2017           0.0            0.0   \n",
      "2                                 Angola  2017     3874892.0        13967.0   \n",
      "3                              Argentina  2017           0.0            1.0   \n",
      "4                                Armenia  2017           0.0            NaN   \n",
      "...                                  ...   ...           ...            ...   \n",
      "1939  Venezuela (Bolivarian Republic of)  2000       29736.0           24.0   \n",
      "1940                            Viet Nam  2000       74316.0          142.0   \n",
      "1941                               Yemen  2000     1394495.0            NaN   \n",
      "1942                              Zambia  2000           NaN            NaN   \n",
      "1943                            Zimbabwe  2000           NaN            NaN   \n",
      "\n",
      "                 WHO Region  \n",
      "0     Eastern Mediterranean  \n",
      "1                    Africa  \n",
      "2                    Africa  \n",
      "3                  Americas  \n",
      "4                    Europe  \n",
      "...                     ...  \n",
      "1939               Americas  \n",
      "1940        Western Pacific  \n",
      "1941  Eastern Mediterranean  \n",
      "1942                 Africa  \n",
      "1943                 Africa  \n",
      "\n",
      "[1944 rows x 5 columns]>\n"
     ]
    }
   ],
   "source": [
    "print(df_1.info)            # types and other information about dataset"
   ]
  },
  {
   "cell_type": "code",
   "execution_count": 7,
   "metadata": {},
   "outputs": [
    {
     "name": "stdout",
     "output_type": "stream",
     "text": [
      "              Year  No. of cases  No. of deaths\n",
      "count  1944.000000  1.710000e+03    1675.000000\n",
      "mean   2008.500000  3.897303e+05    1289.413731\n",
      "std       5.189462  1.270270e+06    4290.739997\n",
      "min    2000.000000  0.000000e+00       0.000000\n",
      "25%    2004.000000  5.937500e+02       1.000000\n",
      "50%    2008.500000  1.479200e+04      30.000000\n",
      "75%    2013.000000  1.170978e+05     669.500000\n",
      "max    2017.000000  1.533084e+07   51842.000000\n"
     ]
    }
   ],
   "source": [
    "print(df_1.describe())"
   ]
  },
  {
   "cell_type": "code",
   "execution_count": 8,
   "metadata": {},
   "outputs": [
    {
     "name": "stdout",
     "output_type": "stream",
     "text": [
      "0                              Afghanistan\n",
      "1                                  Algeria\n",
      "2                                   Angola\n",
      "3                                Argentina\n",
      "4                                  Armenia\n",
      "                       ...                \n",
      "1939    Venezuela (Bolivarian Republic of)\n",
      "1940                              Viet Nam\n",
      "1941                                 Yemen\n",
      "1942                                Zambia\n",
      "1943                              Zimbabwe\n",
      "Name: Country, Length: 1944, dtype: object\n",
      "                                 Country             WHO Region\n",
      "0                            Afghanistan  Eastern Mediterranean\n",
      "1                                Algeria                 Africa\n",
      "2                                 Angola                 Africa\n",
      "3                              Argentina               Americas\n",
      "4                                Armenia                 Europe\n",
      "...                                  ...                    ...\n",
      "1939  Venezuela (Bolivarian Republic of)               Americas\n",
      "1940                            Viet Nam        Western Pacific\n",
      "1941                               Yemen  Eastern Mediterranean\n",
      "1942                              Zambia                 Africa\n",
      "1943                            Zimbabwe                 Africa\n",
      "\n",
      "[1944 rows x 2 columns]\n",
      "----------------------------------------\n",
      "     Country  Year  No. of cases  No. of deaths WHO Region\n",
      "2     Angola  2017     3874892.0        13967.0     Africa\n",
      "3  Argentina  2017           0.0            1.0   Americas\n",
      "4    Armenia  2017           0.0            NaN     Europe\n",
      "     Country WHO Region\n",
      "2     Angola     Africa\n",
      "3  Argentina   Americas\n",
      "4    Armenia     Europe\n"
     ]
    }
   ],
   "source": [
    " #selecting column\n",
    "print(df_1['Country'])   \n",
    "print(df_1[['Country','WHO Region']])\n",
    "print('----------------------------------------')\n",
    "#specific part of data\n",
    "print(df_1[2:5])     \n",
    "print(df_1[2:5][['Country','WHO Region']])    \n",
    "\n"
   ]
  },
  {
   "cell_type": "code",
   "execution_count": 9,
   "metadata": {},
   "outputs": [
    {
     "name": "stdout",
     "output_type": "stream",
     "text": [
      "Country                    Afghanistan\n",
      "Year                              2017\n",
      "No. of cases                    161778\n",
      "No. of deaths                       10\n",
      "WHO Region       Eastern Mediterranean\n",
      "Name: 0, dtype: object\n",
      "----------------------------------------\n",
      "       Country  Year  No. of cases  No. of deaths             WHO Region\n",
      "0  Afghanistan  2017      161778.0           10.0  Eastern Mediterranean\n",
      "1      Algeria  2017           0.0            0.0                 Africa\n",
      "2       Angola  2017     3874892.0        13967.0                 Africa\n",
      "3    Argentina  2017           0.0            1.0               Americas\n",
      "4      Armenia  2017           0.0            NaN                 Europe\n",
      "----------------------------------------\n",
      "                             Country  Year  No. of cases  No. of deaths  \\\n",
      "0                        Afghanistan  2017      161778.0           10.0   \n",
      "5                         Azerbaijan  2017           0.0            NaN   \n",
      "6                         Bangladesh  2017        4893.0           13.0   \n",
      "9                             Bhutan  2017          24.0            1.0   \n",
      "10  Bolivia (Plurinational State of)  2017        4572.0            0.0   \n",
      "\n",
      "               WHO Region  \n",
      "0   Eastern Mediterranean  \n",
      "5                  Europe  \n",
      "6         South-East Asia  \n",
      "9         South-East Asia  \n",
      "10               Americas  \n",
      "----------------------------------------\n",
      "   No. of cases       WHO Region\n",
      "1           0.0           Africa\n",
      "4           0.0           Europe\n",
      "6        4893.0  South-East Asia\n",
      "8     1573163.0           Africa\n",
      "9          24.0  South-East Asia\n",
      "----------------------------------------\n",
      "   Country  Year  No. of cases  No. of deaths WHO Region\n",
      "1  Algeria  2017           0.0            0.0     Africa\n",
      "4  Armenia  2017           0.0            NaN     Europe\n"
     ]
    }
   ],
   "source": [
    "#iloc  (location base indexing)\n",
    "\n",
    "print(df_1.iloc[0])        #print 0th row\n",
    "print('----------------------------------------')\n",
    "print(df_1.iloc[0:5])       #first 5 rows\n",
    "print('----------------------------------------')\n",
    "print(df_1.iloc[[0,5,6,9,10]])     #all rows in the list which we pass\n",
    "print('----------------------------------------')           \n",
    "\n",
    "print(df_1.iloc[[1,4,6,8,9],[2,4]])    #first list for rows and second list for column\n",
    "print('----------------------------------------')\n",
    "\n",
    "print(df_1.iloc[[1,4],0:6])                # same\n"
   ]
  },
  {
   "cell_type": "code",
   "execution_count": 10,
   "metadata": {},
   "outputs": [
    {
     "data": {
      "text/html": [
       "<div>\n",
       "<style scoped>\n",
       "    .dataframe tbody tr th:only-of-type {\n",
       "        vertical-align: middle;\n",
       "    }\n",
       "\n",
       "    .dataframe tbody tr th {\n",
       "        vertical-align: top;\n",
       "    }\n",
       "\n",
       "    .dataframe thead th {\n",
       "        text-align: right;\n",
       "    }\n",
       "</style>\n",
       "<table border=\"1\" class=\"dataframe\">\n",
       "  <thead>\n",
       "    <tr style=\"text-align: right;\">\n",
       "      <th></th>\n",
       "      <th>Year</th>\n",
       "      <th>No. of cases</th>\n",
       "      <th>No. of deaths</th>\n",
       "      <th>WHO Region</th>\n",
       "    </tr>\n",
       "    <tr>\n",
       "      <th>Country</th>\n",
       "      <th></th>\n",
       "      <th></th>\n",
       "      <th></th>\n",
       "      <th></th>\n",
       "    </tr>\n",
       "  </thead>\n",
       "  <tbody>\n",
       "    <tr>\n",
       "      <th>Afghanistan</th>\n",
       "      <td>2017</td>\n",
       "      <td>161778.0</td>\n",
       "      <td>10.0</td>\n",
       "      <td>Eastern Mediterranean</td>\n",
       "    </tr>\n",
       "    <tr>\n",
       "      <th>Algeria</th>\n",
       "      <td>2017</td>\n",
       "      <td>0.0</td>\n",
       "      <td>0.0</td>\n",
       "      <td>Africa</td>\n",
       "    </tr>\n",
       "    <tr>\n",
       "      <th>Angola</th>\n",
       "      <td>2017</td>\n",
       "      <td>3874892.0</td>\n",
       "      <td>13967.0</td>\n",
       "      <td>Africa</td>\n",
       "    </tr>\n",
       "    <tr>\n",
       "      <th>Argentina</th>\n",
       "      <td>2017</td>\n",
       "      <td>0.0</td>\n",
       "      <td>1.0</td>\n",
       "      <td>Americas</td>\n",
       "    </tr>\n",
       "    <tr>\n",
       "      <th>Armenia</th>\n",
       "      <td>2017</td>\n",
       "      <td>0.0</td>\n",
       "      <td>NaN</td>\n",
       "      <td>Europe</td>\n",
       "    </tr>\n",
       "    <tr>\n",
       "      <th>...</th>\n",
       "      <td>...</td>\n",
       "      <td>...</td>\n",
       "      <td>...</td>\n",
       "      <td>...</td>\n",
       "    </tr>\n",
       "    <tr>\n",
       "      <th>Venezuela (Bolivarian Republic of)</th>\n",
       "      <td>2000</td>\n",
       "      <td>29736.0</td>\n",
       "      <td>24.0</td>\n",
       "      <td>Americas</td>\n",
       "    </tr>\n",
       "    <tr>\n",
       "      <th>Viet Nam</th>\n",
       "      <td>2000</td>\n",
       "      <td>74316.0</td>\n",
       "      <td>142.0</td>\n",
       "      <td>Western Pacific</td>\n",
       "    </tr>\n",
       "    <tr>\n",
       "      <th>Yemen</th>\n",
       "      <td>2000</td>\n",
       "      <td>1394495.0</td>\n",
       "      <td>NaN</td>\n",
       "      <td>Eastern Mediterranean</td>\n",
       "    </tr>\n",
       "    <tr>\n",
       "      <th>Zambia</th>\n",
       "      <td>2000</td>\n",
       "      <td>NaN</td>\n",
       "      <td>NaN</td>\n",
       "      <td>Africa</td>\n",
       "    </tr>\n",
       "    <tr>\n",
       "      <th>Zimbabwe</th>\n",
       "      <td>2000</td>\n",
       "      <td>NaN</td>\n",
       "      <td>NaN</td>\n",
       "      <td>Africa</td>\n",
       "    </tr>\n",
       "  </tbody>\n",
       "</table>\n",
       "<p>1944 rows × 4 columns</p>\n",
       "</div>"
      ],
      "text/plain": [
       "                                    Year  No. of cases  No. of deaths  \\\n",
       "Country                                                                 \n",
       "Afghanistan                         2017      161778.0           10.0   \n",
       "Algeria                             2017           0.0            0.0   \n",
       "Angola                              2017     3874892.0        13967.0   \n",
       "Argentina                           2017           0.0            1.0   \n",
       "Armenia                             2017           0.0            NaN   \n",
       "...                                  ...           ...            ...   \n",
       "Venezuela (Bolivarian Republic of)  2000       29736.0           24.0   \n",
       "Viet Nam                            2000       74316.0          142.0   \n",
       "Yemen                               2000     1394495.0            NaN   \n",
       "Zambia                              2000           NaN            NaN   \n",
       "Zimbabwe                            2000           NaN            NaN   \n",
       "\n",
       "                                               WHO Region  \n",
       "Country                                                    \n",
       "Afghanistan                         Eastern Mediterranean  \n",
       "Algeria                                            Africa  \n",
       "Angola                                             Africa  \n",
       "Argentina                                        Americas  \n",
       "Armenia                                            Europe  \n",
       "...                                                   ...  \n",
       "Venezuela (Bolivarian Republic of)               Americas  \n",
       "Viet Nam                                  Western Pacific  \n",
       "Yemen                               Eastern Mediterranean  \n",
       "Zambia                                             Africa  \n",
       "Zimbabwe                                           Africa  \n",
       "\n",
       "[1944 rows x 4 columns]"
      ]
     },
     "execution_count": 10,
     "metadata": {},
     "output_type": "execute_result"
    }
   ],
   "source": [
    "df_3=pd.read_csv('reported_numbers.csv', index_col='Country')    #change index column \n",
    "df_3"
   ]
  },
  {
   "cell_type": "code",
   "execution_count": 11,
   "metadata": {},
   "outputs": [
    {
     "data": {
      "text/html": [
       "<div>\n",
       "<style scoped>\n",
       "    .dataframe tbody tr th:only-of-type {\n",
       "        vertical-align: middle;\n",
       "    }\n",
       "\n",
       "    .dataframe tbody tr th {\n",
       "        vertical-align: top;\n",
       "    }\n",
       "\n",
       "    .dataframe thead th {\n",
       "        text-align: right;\n",
       "    }\n",
       "</style>\n",
       "<table border=\"1\" class=\"dataframe\">\n",
       "  <thead>\n",
       "    <tr style=\"text-align: right;\">\n",
       "      <th></th>\n",
       "      <th>Country</th>\n",
       "      <th>Year</th>\n",
       "      <th>No. of cases</th>\n",
       "      <th>No. of deaths</th>\n",
       "      <th>WHO Region</th>\n",
       "    </tr>\n",
       "  </thead>\n",
       "  <tbody>\n",
       "    <tr>\n",
       "      <th>0</th>\n",
       "      <td>Afghanistan</td>\n",
       "      <td>2017</td>\n",
       "      <td>161778.0</td>\n",
       "      <td>10.0</td>\n",
       "      <td>Eastern Mediterranean</td>\n",
       "    </tr>\n",
       "    <tr>\n",
       "      <th>1</th>\n",
       "      <td>Algeria</td>\n",
       "      <td>2017</td>\n",
       "      <td>0.0</td>\n",
       "      <td>0.0</td>\n",
       "      <td>Africa</td>\n",
       "    </tr>\n",
       "    <tr>\n",
       "      <th>2</th>\n",
       "      <td>Angola</td>\n",
       "      <td>2017</td>\n",
       "      <td>3874892.0</td>\n",
       "      <td>13967.0</td>\n",
       "      <td>Africa</td>\n",
       "    </tr>\n",
       "    <tr>\n",
       "      <th>3</th>\n",
       "      <td>Argentina</td>\n",
       "      <td>2017</td>\n",
       "      <td>0.0</td>\n",
       "      <td>1.0</td>\n",
       "      <td>Americas</td>\n",
       "    </tr>\n",
       "    <tr>\n",
       "      <th>4</th>\n",
       "      <td>Armenia</td>\n",
       "      <td>2017</td>\n",
       "      <td>0.0</td>\n",
       "      <td>NaN</td>\n",
       "      <td>Europe</td>\n",
       "    </tr>\n",
       "    <tr>\n",
       "      <th>...</th>\n",
       "      <td>...</td>\n",
       "      <td>...</td>\n",
       "      <td>...</td>\n",
       "      <td>...</td>\n",
       "      <td>...</td>\n",
       "    </tr>\n",
       "    <tr>\n",
       "      <th>1939</th>\n",
       "      <td>Venezuela (Bolivarian Republic of)</td>\n",
       "      <td>2000</td>\n",
       "      <td>29736.0</td>\n",
       "      <td>24.0</td>\n",
       "      <td>Americas</td>\n",
       "    </tr>\n",
       "    <tr>\n",
       "      <th>1940</th>\n",
       "      <td>Viet Nam</td>\n",
       "      <td>2000</td>\n",
       "      <td>74316.0</td>\n",
       "      <td>142.0</td>\n",
       "      <td>Western Pacific</td>\n",
       "    </tr>\n",
       "    <tr>\n",
       "      <th>1941</th>\n",
       "      <td>Yemen</td>\n",
       "      <td>2000</td>\n",
       "      <td>1394495.0</td>\n",
       "      <td>NaN</td>\n",
       "      <td>Eastern Mediterranean</td>\n",
       "    </tr>\n",
       "    <tr>\n",
       "      <th>1942</th>\n",
       "      <td>Zambia</td>\n",
       "      <td>2000</td>\n",
       "      <td>NaN</td>\n",
       "      <td>NaN</td>\n",
       "      <td>Africa</td>\n",
       "    </tr>\n",
       "    <tr>\n",
       "      <th>1943</th>\n",
       "      <td>Zimbabwe</td>\n",
       "      <td>2000</td>\n",
       "      <td>NaN</td>\n",
       "      <td>NaN</td>\n",
       "      <td>Africa</td>\n",
       "    </tr>\n",
       "  </tbody>\n",
       "</table>\n",
       "<p>1944 rows × 5 columns</p>\n",
       "</div>"
      ],
      "text/plain": [
       "                                 Country  Year  No. of cases  No. of deaths  \\\n",
       "0                            Afghanistan  2017      161778.0           10.0   \n",
       "1                                Algeria  2017           0.0            0.0   \n",
       "2                                 Angola  2017     3874892.0        13967.0   \n",
       "3                              Argentina  2017           0.0            1.0   \n",
       "4                                Armenia  2017           0.0            NaN   \n",
       "...                                  ...   ...           ...            ...   \n",
       "1939  Venezuela (Bolivarian Republic of)  2000       29736.0           24.0   \n",
       "1940                            Viet Nam  2000       74316.0          142.0   \n",
       "1941                               Yemen  2000     1394495.0            NaN   \n",
       "1942                              Zambia  2000           NaN            NaN   \n",
       "1943                            Zimbabwe  2000           NaN            NaN   \n",
       "\n",
       "                 WHO Region  \n",
       "0     Eastern Mediterranean  \n",
       "1                    Africa  \n",
       "2                    Africa  \n",
       "3                  Americas  \n",
       "4                    Europe  \n",
       "...                     ...  \n",
       "1939               Americas  \n",
       "1940        Western Pacific  \n",
       "1941  Eastern Mediterranean  \n",
       "1942                 Africa  \n",
       "1943                 Africa  \n",
       "\n",
       "[1944 rows x 5 columns]"
      ]
     },
     "execution_count": 11,
     "metadata": {},
     "output_type": "execute_result"
    }
   ],
   "source": [
    "df_3.reset_index() "
   ]
  },
  {
   "cell_type": "code",
   "execution_count": 12,
   "metadata": {},
   "outputs": [
    {
     "data": {
      "text/plain": [
       "pandas.core.series.Series"
      ]
     },
     "execution_count": 12,
     "metadata": {},
     "output_type": "execute_result"
    }
   ],
   "source": [
    "#one column is like a series\n",
    "ser_1=df_1['Country']\n",
    "type(ser_1)              #this is a series"
   ]
  },
  {
   "cell_type": "code",
   "execution_count": 13,
   "metadata": {},
   "outputs": [
    {
     "data": {
      "text/plain": [
       "array(['Afghanistan', 'Algeria', 'Angola', 'Argentina', 'Armenia',\n",
       "       'Azerbaijan', 'Bangladesh', 'Belize', 'Benin', 'Bhutan',\n",
       "       'Bolivia (Plurinational State of)', 'Botswana', 'Brazil',\n",
       "       'Burkina Faso', 'Burundi', 'Cabo Verde', 'Cambodia', 'Cameroon',\n",
       "       'Central African Republic', 'Chad', 'China', 'Colombia', 'Comoros',\n",
       "       'Congo', 'Costa Rica', \"Côte d'Ivoire\",\n",
       "       \"Democratic People's Republic of Korea\",\n",
       "       'Democratic Republic of the Congo', 'Djibouti',\n",
       "       'Dominican Republic', 'Ecuador', 'Egypt', 'El Salvador',\n",
       "       'Equatorial Guinea', 'Eritrea', 'Eswatini', 'Ethiopia', 'Gabon',\n",
       "       'Gambia', 'Georgia', 'Ghana', 'Guatemala', 'Guinea',\n",
       "       'Guinea-Bissau', 'Guyana', 'Haiti', 'Honduras', 'India',\n",
       "       'Indonesia', 'Iran (Islamic Republic of)', 'Iraq', 'Kazakhstan',\n",
       "       'Kenya', 'Kyrgyzstan', \"Lao People's Democratic Republic\",\n",
       "       'Liberia', 'Madagascar', 'Malawi', 'Malaysia', 'Mali',\n",
       "       'Mauritania', 'Mauritius', 'Mexico', 'Morocco', 'Mozambique',\n",
       "       'Myanmar', 'Namibia', 'Nepal', 'Nicaragua', 'Niger', 'Nigeria',\n",
       "       'Oman', 'Pakistan', 'Panama', 'Papua New Guinea', 'Paraguay',\n",
       "       'Peru', 'Philippines', 'Republic of Korea', 'Rwanda',\n",
       "       'Sao Tome and Principe', 'Saudi Arabia', 'Senegal', 'Sierra Leone',\n",
       "       'Solomon Islands', 'Somalia', 'South Africa', 'South Sudan',\n",
       "       'Sri Lanka', 'Sudan', 'Suriname', 'Syrian Arab Republic',\n",
       "       'Tajikistan', 'Thailand', 'Timor-Leste', 'Togo', 'Turkey',\n",
       "       'Turkmenistan', 'Uganda', 'United Arab Emirates',\n",
       "       'United Republic of Tanzania', 'Uzbekistan', 'Vanuatu',\n",
       "       'Venezuela (Bolivarian Republic of)', 'Viet Nam', 'Yemen',\n",
       "       'Zambia', 'Zimbabwe'], dtype=object)"
      ]
     },
     "execution_count": 13,
     "metadata": {},
     "output_type": "execute_result"
    }
   ],
   "source": [
    "#return unique values\n",
    "ser_1.unique() "
   ]
  },
  {
   "cell_type": "code",
   "execution_count": 14,
   "metadata": {},
   "outputs": [
    {
     "name": "stdout",
     "output_type": "stream",
     "text": [
      "108\n",
      "El Salvador     18\n",
      "Guatemala       18\n",
      "Eritrea         18\n",
      "Nicaragua       18\n",
      "Gabon           18\n",
      "                ..\n",
      "Gambia          18\n",
      "Afghanistan     18\n",
      "Morocco         18\n",
      "Saudi Arabia    18\n",
      "Brazil          18\n",
      "Name: Country, Length: 108, dtype: int64\n"
     ]
    }
   ],
   "source": [
    "print(ser_1.nunique())        #same like unique but donot calculate undefined values\n",
    "\n",
    "print(ser_1.value_counts())    # calculate the no of unique values\n"
   ]
  },
  {
   "cell_type": "code",
   "execution_count": 15,
   "metadata": {},
   "outputs": [
    {
     "data": {
      "text/plain": [
       "0    subhan\n",
       "1    bashir\n",
       "2     ahmed\n",
       "3    zegham\n",
       "4      hadi\n",
       "5     bilal\n",
       "Name: name of list, dtype: object"
      ]
     },
     "execution_count": 15,
     "metadata": {},
     "output_type": "execute_result"
    }
   ],
   "source": [
    "#create your own series\n",
    "list1=['subhan','bashir','ahmed','zegham','hadi','bilal']\n",
    "ser_2=pd.Series(list1, name='name of list')     #first column of dataframe\n",
    "ser_2"
   ]
  },
  {
   "cell_type": "code",
   "execution_count": 16,
   "metadata": {},
   "outputs": [
    {
     "data": {
      "text/plain": [
       "pandas.core.series.Series"
      ]
     },
     "execution_count": 16,
     "metadata": {},
     "output_type": "execute_result"
    }
   ],
   "source": [
    "type(ser_2)"
   ]
  },
  {
   "cell_type": "code",
   "execution_count": 17,
   "metadata": {},
   "outputs": [
    {
     "name": "stdout",
     "output_type": "stream",
     "text": [
      "['subhan', 'bashir', 'ahmed', 'zegham', 'hadi', 'bilal']\n",
      "['subhan' 'bashir' 'ahmed' 'zegham' 'hadi' 'bilal']\n"
     ]
    },
    {
     "data": {
      "text/plain": [
       "array(['subhan', 'bashir', 'ahmed', 'zegham', 'hadi', 'bilal'],\n",
       "      dtype=object)"
      ]
     },
     "execution_count": 17,
     "metadata": {},
     "output_type": "execute_result"
    }
   ],
   "source": [
    "print(ser_2.tolist())         #change series to list\n",
    "print(ser_2.values )          #change series to array\n",
    "ser_2.to_numpy()              #change all in numpy"
   ]
  },
  {
   "cell_type": "code",
   "execution_count": 18,
   "metadata": {},
   "outputs": [],
   "source": [
    "#sorting the series\n",
    "#inplace is used to change the original series\n",
    "ser_2.sort_index(ascending= True, inplace=True)            #sorting w.r.t index \n",
    "\n",
    "ser_2.sort_values(ascending= True, inplace=True)           #sorting w.r.t values "
   ]
  },
  {
   "cell_type": "code",
   "execution_count": 19,
   "metadata": {},
   "outputs": [
    {
     "data": {
      "text/plain": [
       "2     ahmed\n",
       "1    bashir\n",
       "5     bilal\n",
       "4      hadi\n",
       "0    subhan\n",
       "3    zegham\n",
       "Name: name of list, dtype: object"
      ]
     },
     "execution_count": 19,
     "metadata": {},
     "output_type": "execute_result"
    }
   ],
   "source": [
    "ser_2"
   ]
  },
  {
   "cell_type": "code",
   "execution_count": 20,
   "metadata": {},
   "outputs": [
    {
     "name": "stdout",
     "output_type": "stream",
     "text": [
      "1    0.0\n",
      "7    0.0\n",
      "3    1.0\n",
      "9    1.0\n",
      "Name: No. of deaths, dtype: float64\n",
      "2    13967.0\n",
      "8     2182.0\n",
      "6       13.0\n",
      "Name: No. of deaths, dtype: float64\n"
     ]
    }
   ],
   "source": [
    "ser_3=df_1['No. of deaths'].head(10)\n",
    "print(ser_3.nsmallest(n=4))                    #first 3 smallest values in series\n",
    "print(ser_3.nlargest(n=3))                     #first 3 largest values in series"
   ]
  },
  {
   "cell_type": "code",
   "execution_count": 21,
   "metadata": {},
   "outputs": [
    {
     "name": "stdout",
     "output_type": "stream",
     "text": [
      "      Country  Year  No. of cases  No. of deaths       WHO Region\n",
      "6  Bangladesh  2017        4893.0           13.0  South-East Asia\n",
      "0       False\n",
      "1       False\n",
      "2       False\n",
      "3       False\n",
      "4       False\n",
      "        ...  \n",
      "1939    False\n",
      "1940    False\n",
      "1941    False\n",
      "1942    False\n",
      "1943    False\n",
      "Name: Year, Length: 1944, dtype: bool\n"
     ]
    },
    {
     "data": {
      "text/plain": [
       "0       False\n",
       "1       False\n",
       "2       False\n",
       "3       False\n",
       "4       False\n",
       "        ...  \n",
       "1939     True\n",
       "1940     True\n",
       "1941     True\n",
       "1942     True\n",
       "1943     True\n",
       "Name: Year, Length: 1944, dtype: bool"
      ]
     },
     "execution_count": 21,
     "metadata": {},
     "output_type": "execute_result"
    }
   ],
   "source": [
    "#data filtering\n",
    "print(df_1[(df_1.Country=='Bangladesh') & (df_1.Year==2017)]) \n",
    "\n",
    "print(df_1.Year.between(2010,2012))                 #data between year 2010 to 2012\n",
    "\n",
    "df_1.Year.isin([2000,2005])                         #data only  in 2005 and 2000\n"
   ]
  },
  {
   "cell_type": "code",
   "execution_count": 22,
   "metadata": {},
   "outputs": [
    {
     "data": {
      "text/plain": [
       "0          10.0\n",
       "1           0.0\n",
       "2       13967.0\n",
       "3           1.0\n",
       "4           0.0\n",
       "         ...   \n",
       "1939       24.0\n",
       "1940      142.0\n",
       "1941        0.0\n",
       "1942        0.0\n",
       "1943        0.0\n",
       "Name: No. of deaths, Length: 1944, dtype: float64"
      ]
     },
     "execution_count": 22,
     "metadata": {},
     "output_type": "execute_result"
    }
   ],
   "source": [
    "df_1['No. of deaths'].fillna(0)          #fill nan values with 0"
   ]
  },
  {
   "cell_type": "code",
   "execution_count": 23,
   "metadata": {},
   "outputs": [
    {
     "data": {
      "text/plain": [
       "0          10.0\n",
       "1           0.0\n",
       "2       13967.0\n",
       "3           1.0\n",
       "4           5.0\n",
       "         ...   \n",
       "1939       24.0\n",
       "1940      142.0\n",
       "1941      142.0\n",
       "1942      142.0\n",
       "1943      142.0\n",
       "Name: No. of deaths, Length: 1944, dtype: float64"
      ]
     },
     "execution_count": 23,
     "metadata": {},
     "output_type": "execute_result"
    }
   ],
   "source": [
    "df_1['No. of deaths'].interpolate(method='linear')        #fill the nan value with average"
   ]
  },
  {
   "cell_type": "code",
   "execution_count": 24,
   "metadata": {},
   "outputs": [],
   "source": [
    "#create a dataframe\n",
    "l1=['subhan','cricket','180']\n",
    "l2=['bilal','football','159']\n",
    "l3=['hadi','hockey','180']\n",
    "l4=['ahmed','cricket','180']\n",
    "l5=['mian','football','159']\n",
    "l6=['zegham','hockey','180']\n",
    "\n",
    "df_5=pd.DataFrame(data=[l1,l2,l3,l4,l5,l6], columns=['name','hobbies','height'])\n"
   ]
  },
  {
   "cell_type": "code",
   "execution_count": 25,
   "metadata": {},
   "outputs": [
    {
     "data": {
      "text/html": [
       "<div>\n",
       "<style scoped>\n",
       "    .dataframe tbody tr th:only-of-type {\n",
       "        vertical-align: middle;\n",
       "    }\n",
       "\n",
       "    .dataframe tbody tr th {\n",
       "        vertical-align: top;\n",
       "    }\n",
       "\n",
       "    .dataframe thead th {\n",
       "        text-align: right;\n",
       "    }\n",
       "</style>\n",
       "<table border=\"1\" class=\"dataframe\">\n",
       "  <thead>\n",
       "    <tr style=\"text-align: right;\">\n",
       "      <th></th>\n",
       "      <th>name</th>\n",
       "      <th>hobbies</th>\n",
       "      <th>height</th>\n",
       "    </tr>\n",
       "  </thead>\n",
       "  <tbody>\n",
       "    <tr>\n",
       "      <th>0</th>\n",
       "      <td>subhan</td>\n",
       "      <td>cricket</td>\n",
       "      <td>180</td>\n",
       "    </tr>\n",
       "    <tr>\n",
       "      <th>1</th>\n",
       "      <td>bilal</td>\n",
       "      <td>football</td>\n",
       "      <td>159</td>\n",
       "    </tr>\n",
       "    <tr>\n",
       "      <th>2</th>\n",
       "      <td>hadi</td>\n",
       "      <td>hockey</td>\n",
       "      <td>180</td>\n",
       "    </tr>\n",
       "    <tr>\n",
       "      <th>3</th>\n",
       "      <td>ahmed</td>\n",
       "      <td>cricket</td>\n",
       "      <td>180</td>\n",
       "    </tr>\n",
       "    <tr>\n",
       "      <th>4</th>\n",
       "      <td>mian</td>\n",
       "      <td>football</td>\n",
       "      <td>159</td>\n",
       "    </tr>\n",
       "    <tr>\n",
       "      <th>5</th>\n",
       "      <td>zegham</td>\n",
       "      <td>hockey</td>\n",
       "      <td>180</td>\n",
       "    </tr>\n",
       "  </tbody>\n",
       "</table>\n",
       "</div>"
      ],
      "text/plain": [
       "     name   hobbies height\n",
       "0  subhan   cricket    180\n",
       "1   bilal  football    159\n",
       "2    hadi    hockey    180\n",
       "3   ahmed   cricket    180\n",
       "4    mian  football    159\n",
       "5  zegham    hockey    180"
      ]
     },
     "execution_count": 25,
     "metadata": {},
     "output_type": "execute_result"
    }
   ],
   "source": [
    "df_5"
   ]
  },
  {
   "cell_type": "code",
   "execution_count": null,
   "metadata": {},
   "outputs": [],
   "source": []
  }
 ],
 "metadata": {
  "kernelspec": {
   "display_name": "Python 3",
   "language": "python",
   "name": "python3"
  },
  "language_info": {
   "codemirror_mode": {
    "name": "ipython",
    "version": 3
   },
   "file_extension": ".py",
   "mimetype": "text/x-python",
   "name": "python",
   "nbconvert_exporter": "python",
   "pygments_lexer": "ipython3",
   "version": "3.7.6"
  }
 },
 "nbformat": 4,
 "nbformat_minor": 4
}
